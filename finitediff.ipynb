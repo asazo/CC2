{
 "cells": [
  {
   "cell_type": "markdown",
   "metadata": {},
   "source": [
    "# Diferencias Finitas"
   ]
  },
  {
   "cell_type": "markdown",
   "metadata": {},
   "source": [
    "El método de diferencias finitas corresponde a una aproximación discreta del dominio del problema, generando un sistema de ecuaciones para tal efecto. Tanto Ecuaciones diferenciales ordinarias como parciales pueden ser resueltas numéricamente con este método.\n",
    "\n",
    "Tomemos las fórmulas de diferencias finitas centradas para estimar la primera y segunda derivada de nuestra función a aproximar,\n",
    "\n",
    "$$y'(t) = \\frac{y(t+h)-y(t-h)}{2h} - \\frac{h^2}{6}y'''(c)$$\n",
    "\n",
    "$$y''(t) = \\frac{y(t+h)-2y(t) + y(t-h)}{h^2} + \\frac{h^2}{12}y''''(c)$$\n",
    "\n",
    "y las reemplazaremos en nuestros problemas que involucran ecuaciones diferenciales. Si el problema original es lineal, el sistema de ecuaciones a resolver será lineal y podemos aproximarlo por eliminación gaussiana o por métodos iterativos. Problemas no lineales generaran sistemas de ecuaciones no lineales y habrá que resolverlos de otra forma."
   ]
  },
  {
   "cell_type": "markdown",
   "metadata": {},
   "source": [
    "## Problemas de Valor de Frontera  (BVP) lineales"
   ]
  },
  {
   "cell_type": "markdown",
   "metadata": {},
   "source": [
    "Por ejemplo el siguiente BVP puede ser resuelto utilizando diferencias finitas.\n",
    "\n",
    "\\begin{align*}\n",
    "y'' = 4y\\\\\n",
    "y(0) = 1\\\\\n",
    "y(1) = 3\n",
    "\\end{align*}\n",
    "\n",
    "Al reemplazar las derivadas por sus aproximaciones obtenemos que\n",
    "\n",
    "\\begin{align*}\n",
    "\\frac{w_{i+1} - 2w_i + w_{i-1}}{h^2} - 4w_i &= 0\\\\\n",
    "\\Rightarrow w_{i-1} + (-4h^2-2)w_i + w_{i+1} &= 0\n",
    "\\end{align*}\n",
    "\n",
    "Si elegimos una aproximación de $n=3$ estimaciones el tamaño del intervalo es $h = \\frac{1}{n+1} = \\frac{1}{4}$ con tres ecuaciones. En general, como sabemos las condiciones de borde, nosotros buscamos una aproximación en $n$ puntos equiespaciados sin contar los extremos, luego para saber el tamaño del intervalo usamos la fórmula general $h = \\frac{b-a}{n+1}$."
   ]
  },
  {
   "cell_type": "code",
   "execution_count": 1,
   "metadata": {
    "collapsed": false
   },
   "outputs": [
    {
     "ename": "NameError",
     "evalue": "name 't' is not defined",
     "output_type": "error",
     "traceback": [
      "\u001b[1;31m---------------------------------------------------------------------------\u001b[0m",
      "\u001b[1;31mNameError\u001b[0m                                 Traceback (most recent call last)",
      "\u001b[1;32m<ipython-input-1-08780c48f5b7>\u001b[0m in \u001b[0;36m<module>\u001b[1;34m()\u001b[0m\n\u001b[0;32m     46\u001b[0m \u001b[1;33m\u001b[0m\u001b[0m\n\u001b[0;32m     47\u001b[0m \u001b[1;31m# Plots\u001b[0m\u001b[1;33m\u001b[0m\u001b[1;33m\u001b[0m\u001b[0m\n\u001b[1;32m---> 48\u001b[1;33m \u001b[0mplt\u001b[0m\u001b[1;33m.\u001b[0m\u001b[0mplot\u001b[0m\u001b[1;33m(\u001b[0m\u001b[0mt\u001b[0m\u001b[1;33m,\u001b[0m \u001b[0myy\u001b[0m\u001b[1;33m,\u001b[0m \u001b[1;34m'm'\u001b[0m\u001b[1;33m,\u001b[0m \u001b[0mlw\u001b[0m\u001b[1;33m=\u001b[0m\u001b[1;36m2\u001b[0m\u001b[1;33m,\u001b[0m \u001b[0mlabel\u001b[0m\u001b[1;33m=\u001b[0m\u001b[1;34m\"$y(t)$\"\u001b[0m\u001b[1;33m)\u001b[0m\u001b[1;33m\u001b[0m\u001b[0m\n\u001b[0m\u001b[0;32m     49\u001b[0m \u001b[0mplt\u001b[0m\u001b[1;33m.\u001b[0m\u001b[0mlegend\u001b[0m\u001b[1;33m(\u001b[0m\u001b[0mloc\u001b[0m\u001b[1;33m=\u001b[0m\u001b[1;34m'best'\u001b[0m\u001b[1;33m,\u001b[0m \u001b[0mfontsize\u001b[0m\u001b[1;33m=\u001b[0m\u001b[1;36m16\u001b[0m\u001b[1;33m)\u001b[0m\u001b[1;33m\u001b[0m\u001b[0m\n\u001b[0;32m     50\u001b[0m \u001b[0mplt\u001b[0m\u001b[1;33m.\u001b[0m\u001b[0mxlabel\u001b[0m\u001b[1;33m(\u001b[0m\u001b[1;34m\"$t$\"\u001b[0m\u001b[1;33m,\u001b[0m \u001b[0mfontsize\u001b[0m\u001b[1;33m=\u001b[0m\u001b[1;36m16\u001b[0m\u001b[1;33m)\u001b[0m\u001b[1;33m\u001b[0m\u001b[0m\n",
      "\u001b[1;31mNameError\u001b[0m: name 't' is not defined"
     ]
    },
    {
     "data": {
      "image/png": "[encoded data removed]",
      "text/plain": [
       "<matplotlib.figure.Figure at 0x7f3694c624e0>"
      ]
     },
     "metadata": {},
     "output_type": "display_data"
    }
   ],
   "source": [
    "%matplotlib inline\n",
    "\n",
    "import numpy as np\n",
    "import matplotlib.pyplot as plt\n",
    "\n",
    "# Rango de tiempo\n",
    "tt = np.linspace(0, 1, 100)\n",
    "\n",
    "# Solución Analítica\n",
    "def y(t):\n",
    "    return (np.exp(-2*t)*(-3*np.exp(2)+np.exp(4)-np.exp(4*t)+ 3*np.exp(2+4*t)))/(-1+np.exp(4))\n",
    "\n",
    "yy = y(tt)\n",
    "\n",
    "\n",
    "# Matriz de diferencias finitas que depende de n\n",
    "def DiffMatrix(n, h):\n",
    "    m = np.zeros((n,n), dtype=float)\n",
    "    np.fill_diagonal(m, -4.0*h**2.0-2)\n",
    "    dix, diy = np.diag_indices(n)\n",
    "    dix = dix[:-1]\n",
    "    diy = diy[:-1] + 1\n",
    "    m[(dix, diy)] = 1\n",
    "    dix = dix + 1\n",
    "    diy = diy - 1\n",
    "    m[(dix, diy)] = 1\n",
    "    return m\n",
    "\n",
    "plt.figure(figsize=(10,7))\n",
    "# Para distintas precisiones\n",
    "for n in [1, 2, 5]:\n",
    "    # Calcular tamaño del intervalo\n",
    "    h = 1.0/(n + 1.0)\n",
    "    # Armar vector de coeficientes\n",
    "    b = np.zeros((n))\n",
    "    b[0] = -1\n",
    "    b[-1] = -3\n",
    "    # Resolver el sistema A*w = b\n",
    "    # A es la matriz de diferencias finitas\n",
    "    # w el vector de aproximaciones finitas\n",
    "    A = DiffMatrix(n, h)\n",
    "    w = np.concatenate(([1], np.linalg.solve(A, b), [3]))\n",
    "    _t = np.linspace(0, 1, n+2)\n",
    "    # Plot aproximación\n",
    "    plt.plot(_t, w, 'o--',lw=2, label=\"$n =\"+str(n)+\"$\")\n",
    "                       \n",
    "# Plots\n",
    "plt.plot(t, yy, 'm', lw=2, label=\"$y(t)$\")\n",
    "plt.legend(loc='best', fontsize=16)\n",
    "plt.xlabel(\"$t$\", fontsize=16)\n",
    "plt.show()"
   ]
  },
  {
   "cell_type": "markdown",
   "metadata": {
    "collapsed": true
   },
   "source": [
    "Los errores de éste método son dos principalmente:\n",
    "\n",
    "1. Truncamiento de las fórmulas de diferencias finitas (es decir, cuando despreciamos los términos de orden superior que provienen de la Serie de Taylor que utilizamos para definir las fórmulas).\n",
    "2. El error de solucionar numéricamente el sistema de ecuaciones lineales.\n",
    "\n",
    "Las fórmulas centradas de diferencia finitas tienen un error proporcional a $h^2$. Nuestro método irá disminuyendo el error a medida que aumentamos la cantidad de subintervalos $n$, es decir, a medida que disminuimos $h$, y por lo tanto el error decrece como $\\mathcal{O}(n^{-2})$.\n",
    "\n",
    "Recordemos que para entender gráficamente cómo un error decrece (o crece) es conveniente establecer relaciones utilizando gráficos loglog, donde la pendiente del gráfico indica el exponente para la regla de cambio del error respecto a la variable independiente número de intervalos $n$.\n",
    "\n",
    "Se puede observar que efectivamente la pendiente de este gráfico es -2, lo que confirma la regla del error que hemos calculado."
   ]
  },
  {
   "cell_type": "code",
   "execution_count": null,
   "metadata": {
    "collapsed": false
   },
   "outputs": [],
   "source": [
    "from scipy.interpolate import BarycentricInterpolator\n",
    "\n",
    "y_data = y(0.75)\n",
    "exp = np.linspace(1, 3, 10)\n",
    "N = np.round(np.power(10, exp))\n",
    "err = []\n",
    "\n",
    "for n in N:\n",
    "    n = int(n)\n",
    "    h = 1.0/(n + 1.0)\n",
    "    A = DiffMatrix(n, h)\n",
    "    b = np.zeros((n))\n",
    "    b[0] = -1\n",
    "    b[-1] = -3\n",
    "    w = np.concatenate(([1], np.linalg.solve(A, b), [3]))\n",
    "    _t = np.linspace(0, 1, n+2)\n",
    "    f = BarycentricInterpolator(_t, w)\n",
    "    err.append(np.abs(f(0.75) - y(0.75)))\n",
    "\n",
    "logerr = np.log10(err)\n",
    "plt.figure(figsize=(10,7))\n",
    "plt.plot(exp, logerr, 'bo')\n",
    "slope = (logerr[1] - logerr[0]) / (exp[1] - exp[0])\n",
    "print(\"pendiente:\",slope)\n",
    "plt.xlabel(\"$n$\",fontsize=20)\n",
    "plt.ylabel(\"$|w-y|_{t=0.75}$\",fontsize=20)\n",
    "exp_n = [1,2,3]\n",
    "plt.xticks(exp_n, [\"$10^{\"+str(i)+\"}$\" for i in exp_n], fontsize=16)\n",
    "exp_error = [-7, -6, -5, -4 , -3] \n",
    "plt.yticks(exp_error, [\"$10^{\"+str(i)+\"}$\" for i in exp_error], fontsize=16)\n",
    "plt.show()"
   ]
  },
  {
   "cell_type": "markdown",
   "metadata": {},
   "source": [
    "## Problemas de Valor de Frontera No Lineales\n",
    "\n",
    "Si introducimos no linealidades a nuestras ecuaciones diferenciales, resolverlas numéricamente implicará replantear el sistema de ecuaciones para dejarla en función de $w$ y podemos en cambio resolver $F(w) = 0$. Por ejemplo podemos usar el Método de Newton multivariado, y para ello necesitamos la matriz Jacobiana de $F$...\n",
    "\n",
    "No olvidar la fórmula del jacobiano de una función $F$, que no es más que la matriz de derivadas parciales de $F$\n",
    "\n",
    "\\begin{bmatrix}\n",
    "\\cfrac{\\partial F_1}{\\partial w_1} & \\cdots & \\cfrac{\\partial F_1}{\\partial w_n} \\\\\n",
    "\\vdots & \\ddots & \\vdots \\\\\n",
    "\\cfrac{\\partial F_n}{\\partial w_1} & \\cdots & \\cfrac{\\partial F_n}{\\partial w_n}\n",
    "\\end{bmatrix}\n",
    "\n",
    "El método de Newton es $w^{k+1} = w^{k} - \\partial F(w^k)^{-1} F(w^k)$. Pero, como siempre, encontrar la inversa del Jacobiano puede ser una operacion costosa y puede llevar a inestabilidades. Por lo que es mejor resolver para $\\Delta w$ el sistema análogo $\\partial F(w^k) \\Delta w = -F(w^k)$"
   ]
  },
  {
   "cell_type": "markdown",
   "metadata": {
    "collapsed": true
   },
   "source": [
    "El siguiente problema puede ser resuelto con diferencias finitas y método de Newton:\n",
    "\n",
    "\\begin{align*}\n",
    "y'' = y - y^2\\\\\n",
    "y(0) = 1\\\\\n",
    "y(1) = 4\n",
    "\\end{align*}\n",
    "\n",
    "Reemplazando nuestras fórmulas de diferencias finitas obtenemos:\n",
    "\n",
    "$$w_{i-1} - (2 + h^2)w_i + h^2w_i^2 + w_{i+1} = 0$$\n",
    "\n",
    "Aparte, las ecuaciones para las condiciones de borde resultan ser:\n",
    "\n",
    "$$y_a - (2+h^2)w_1 + h^2w_i^2 + w_2 = 0$$\n",
    "\n",
    "$$w_{n-1} - (2+h^2)w_n + h^2w_n^2 + y_b = 0$$"
   ]
  },
  {
   "cell_type": "code",
   "execution_count": 65,
   "metadata": {
    "collapsed": false
   },
   "outputs": [
    {
     "data": {
      "text/plain": [
       "[<matplotlib.lines.Line2D at 0x7f366ff6a470>]"
      ]
     },
     "execution_count": 65,
     "metadata": {},
     "output_type": "execute_result"
    },
    {
     "data": {
      "image/png": "[encoded data removed]",
      "text/plain": [
       "<matplotlib.figure.Figure at 0x7f3694c67630>"
      ]
     },
     "metadata": {},
     "output_type": "display_data"
    }
   ],
   "source": [
    "n = 40\n",
    "t = np.linspace(0, 1, n)\n",
    "w = np.zeros((n))\n",
    "h = 1.0 / (n + 1)\n",
    "ya = 1\n",
    "yb = 4\n",
    "\n",
    "# Matriz de diferencias finitas que depende de n\n",
    "def jacobian(n, w, h):\n",
    "    m = np.zeros((n,n), dtype=float)\n",
    "    np.fill_diagonal(m, 2.0*h**2.0 * w -2-h**2)\n",
    "    dix, diy = np.diag_indices(n)\n",
    "    dix = dix[:-1]\n",
    "    diy = diy[:-1] + 1\n",
    "    m[(dix, diy)] = 1\n",
    "    dix = dix + 1\n",
    "    diy = diy - 1\n",
    "    m[(dix, diy)] = 1\n",
    "    return m\n",
    "\n",
    "def f(n, w, h):\n",
    "    y = np.zeros((n))\n",
    "    y[0] = ya       - (2+h**2)*w[0]   + h**2*w[0]**2   + w[1]\n",
    "    y[n-1] = w[n-2] - (2+h**2)*w[n-1] + h**2*w[n-1]**2 + yb\n",
    "    for i in range(1, n-1):\n",
    "        y[i] = w[i-1] - (2+h**2)*w[i] + h**2*w[i]**2 + w[i+1]\n",
    "    return y\n",
    "    \n",
    "for i in range(10):\n",
    "    w = w - np.linalg.solve(jacobian(n, w, h), f(n, w, h))\n",
    "\n",
    "    \n",
    "plt.figure(figsize=(10,7))\n",
    "plt.plot(t, w)"
   ]
  },
  {
   "cell_type": "code",
   "execution_count": null,
   "metadata": {
    "collapsed": true
   },
   "outputs": [],
   "source": []
  }
 ],
 "metadata": {
  "kernelspec": {
   "display_name": "Python 3",
   "language": "python",
   "name": "python3"
  },
  "language_info": {
   "codemirror_mode": {
    "name": "ipython",
    "version": 3
   },
   "file_extension": ".py",
   "mimetype": "text/x-python",
   "name": "python",
   "nbconvert_exporter": "python",
   "pygments_lexer": "ipython3",
   "version": "3.4.3"
  }
 },
 "nbformat": 4,
 "nbformat_minor": 0
}
