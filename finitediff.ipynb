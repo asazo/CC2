{
 "cells": [
  {
   "cell_type": "markdown",
   "metadata": {},
   "source": [
    "# Diferencias Finitas"
   ]
  },
  {
   "cell_type": "markdown",
   "metadata": {},
   "source": [
    "El método de diferencias finitas corresponde a una aproximación discreta del dominio del problema, generando un sistema de ecuaciones para tal efecto. Tanto Ecuaciones diferenciales ordinarias como parciales pueden ser resueltas numéricamente con este método.\n",
    "\n",
    "Tomemos las fórmulas de diferencias finitas centradas para estimar la primera y segunda derivada de nuestra función a aproximar,\n",
    "\n",
    "$$y'(t) = \\frac{y(t+h)-y(t-h)}{2h} - \\frac{h^2}{6}y'''(c)$$\n",
    "\n",
    "$$y''(t) = \\frac{y(t+h)-2y(t) + y(t-h)}{h^2} + \\frac{h^2}{12}y''''(c)$$\n",
    "\n",
    "y las reemplazaremos en nuestros problemas que involucran ecuaciones diferenciales. Si el problema original es lineal, el sistema de ecuaciones a resolver será lineal y podemos aproximarlo por eliminación gaussiana o por métodos iterativos. Problemas no lineales generaran sistemas de ecuaciones no lineales y habrá que resolverlos de otra forma."
   ]
  },
  {
   "cell_type": "markdown",
   "metadata": {},
   "source": [
    "## Problemas de Valor Inicial  (BVP) lineales"
   ]
  },
  {
   "cell_type": "markdown",
   "metadata": {},
   "source": [
    "Por ejemplo el siguiente BVP puede ser resuelto utilizando diferencias finitas.\n",
    "\n",
    "\\begin{align*}\n",
    "y'' = 4y\\\\\n",
    "y(0) = 1\\\\\n",
    "y(1) = 3\n",
    "\\end{align*}\n",
    "\n",
    "Al reemplazar las derivadas por sus aproximaciones obtenemos que\n",
    "\n",
    "\\begin{align*}\n",
    "\\frac{w_{i+1} - 2w_i + w_{i-1}}{h^2} - 4w_i &= 0\\\\\n",
    "\\Rightarrow w_{i-1} + (-4h^2-2)w_i + w_{i+1} &= 0\n",
    "\\end{align*}\n",
    "\n",
    "Si elegimos una aproximación de $n=3$ estimaciones el tamaño del intervalo es $h = \\frac{1}{n+1} = \\frac{1}{4}$ con tres ecuaciones."
   ]
  },
  {
   "cell_type": "code",
   "execution_count": 152,
   "metadata": {
    "collapsed": false
   },
   "outputs": [
    {
     "data": {
      "image/png": "[encoded data removed]",
      "text/plain": [
       "<matplotlib.figure.Figure at 0x7f24f8cbfeb8>"
      ]
     },
     "metadata": {},
     "output_type": "display_data"
    }
   ],
   "source": [
    "%matplotlib inline\n",
    "\n",
    "import numpy as np\n",
    "import matplotlib.pyplot as plt\n",
    "\n",
    "# Rango de tiempo\n",
    "t = np.linspace(0, 1, 100)\n",
    "\n",
    "# Solución Analítica\n",
    "y = (np.exp(-2*t)*(-3*np.exp(2)+np.exp(4)-np.exp(4*t)+ 3*np.exp(2+4*t)))/(-1+np.exp(4))\n",
    "\n",
    "\n",
    "# Matriz de diferencias finitas que depende de n\n",
    "def DiffMatrix(n, h):\n",
    "    m = np.zeros((n,n))\n",
    "    np.fill_diagonal(m, -4.0*h**2.0-2)\n",
    "    dix, diy = np.diag_indices(n)\n",
    "    dix = dix[:-1]\n",
    "    diy = diy[:-1] + 1\n",
    "    m[(dix, diy)] = 1\n",
    "    dix = dix + 1\n",
    "    diy = diy - 1\n",
    "    m[(dix, diy)] = 1\n",
    "    return m\n",
    "\n",
    "for n in [1, 2, 5]:\n",
    "    h = 1.0/(n + 1.0)\n",
    "    b = np.zeros((n))\n",
    "    b[0] = -1\n",
    "    b[-1] = -3\n",
    "    A = DiffMatrix(n, h)\n",
    "    w = np.concatenate(([1], np.linalg.solve(A, b), [3]))\n",
    "    tt = np.linspace(0, 1, n+2)\n",
    "    plt.plot(tt, w, 'o--',lw=2, label=\"$n =\"+str(n)+\"$\")\n",
    "                       \n",
    "# Plots\n",
    "plt.plot(t, y, 'm', lw=2, label=\"$y(t)$\")\n",
    "plt.legend(loc='best')\n",
    "plt.show()"
   ]
  },
  {
   "cell_type": "code",
   "execution_count": null,
   "metadata": {
    "collapsed": true
   },
   "outputs": [],
   "source": []
  }
 ],
 "metadata": {
  "kernelspec": {
   "display_name": "Python 3",
   "language": "python",
   "name": "python3"
  },
  "language_info": {
   "codemirror_mode": {
    "name": "ipython",
    "version": 3
   },
   "file_extension": ".py",
   "mimetype": "text/x-python",
   "name": "python",
   "nbconvert_exporter": "python",
   "pygments_lexer": "ipython3",
   "version": "3.4.3"
  }
 },
 "nbformat": 4,
 "nbformat_minor": 0
}
