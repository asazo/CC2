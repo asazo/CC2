{
 "cells": [
  {
   "cell_type": "markdown",
   "metadata": {},
   "source": [
    "# Problemas de Valor de Frontera (Boundary Value Problems)"
   ]
  },
  {
   "cell_type": "markdown",
   "metadata": {},
   "source": [
    "En general un problema de valor de frontera de segundo orden posee la siguiente estructura:\n",
    "\n",
    "$$\\begin{align}y'' &= f(t,y,y') \\\\y(a) &= y_a \\\\y(b) &= y_b \\end{align}$$"
   ]
  },
  {
   "cell_type": "markdown",
   "metadata": {},
   "source": [
    "donde $y(a)$ e $y(b)$ son las condiciones de borde para el problema que está definido en el intervalo $a \\leq t \\leq b$. La respuesta a este problema es una función $y(t)$."
   ]
  },
  {
   "cell_type": "code",
   "execution_count": 58,
   "metadata": {
    "collapsed": true
   },
   "outputs": [],
   "source": [
    "%matplotlib inline\n",
    "import numpy as np\n",
    "import matplotlib.pyplot as plt\n",
    "import matplotlib"
   ]
  },
  {
   "cell_type": "code",
   "execution_count": 65,
   "metadata": {
    "collapsed": false
   },
   "outputs": [
    {
     "data": {
      "text/plain": [
       "([<matplotlib.axis.YTick at 0x7fab1ad9b2b0>,\n",
       "  <matplotlib.axis.YTick at 0x7fab1add8cc0>,\n",
       "  <matplotlib.axis.YTick at 0x7fab1ad3deb8>],\n",
       " <a list of 3 Text yticklabel objects>)"
      ]
     },
     "execution_count": 65,
     "metadata": {},
     "output_type": "execute_result"
    },
    {
     "data": {
      "image/png": "[encoded data removed]",
      "text/plain": [
       "<matplotlib.figure.Figure at 0x7fab1ad85b00>"
      ]
     },
     "metadata": {},
     "output_type": "display_data"
    }
   ],
   "source": [
    "def y(x):\n",
    "    return np.exp(-x**2)*np.sin(x)\n",
    "xx = np.linspace(0, 1, 100)\n",
    "yy = y(xx)\n",
    "plt.plot(xx,yy)\n",
    "plt.plot(0,0,'ro')\n",
    "plt.plot(1,y(1),'ro')\n",
    "plt.xlim(-0.5, 1.5)\n",
    "plt.ylim(-0.1, 0.45)\n",
    "labels = [\"$a$\", \"$t$\", \"$b$\"]\n",
    "labels2 = [\"$y_a$\", \"$y(t)$\", \"$y_b$\"]\n",
    "plt.xticks([0, 0.5, 1], labels, fontsize=20)\n",
    "plt.yticks([0, y(0.2) ,y(1)], labels2, fontsize=20)"
   ]
  },
  {
   "cell_type": "markdown",
   "metadata": {},
   "source": [
    "Ejemplo: **Encuentre la altura máxima para un proyectil lanzado desde 30 metros de altura y que alcanza el suelo en 4 segundos.**\n",
    "\n",
    "En este caso, el problema puede plantearse dadas las leyes de Newton de movimiento como:\n",
    "\n",
    "$$\\begin{align}\n",
    "y'' &= -g\\\\\n",
    "y(0) &= 30\\\\\n",
    "y(4) &= 0\n",
    "\\end{align}\n",
    "$4\n",
    "\n",
    "Analíticamente lo resolvemos vía integración de $y''$ pues ésta depende únicamente de $t$.\n",
    "\n",
    "$$\n",
    "\\begin{align}\n",
    "y'(t) &= \\int y''(t)\\,dt = -gt + v_0\\\\\n",
    "y(t) &= \\int -gt + v_0 \\, dt = -\\frac{1}{2}gt^2 + v_0t + y_0\n",
    "\\end{align}\n",
    "$$\n",
    "\n",
    "Las condiciones de borde nos permiten descubrir las constantes $v_0$ y $y_0$ pues $y(0) = y_0 = 30$ y $y(4) = -8g+v_0+30$, luego $v_0 \\approx 12.12 $. Al obtener la solución analítica podemos descubrir la altura máxima del proyectil.\n",
    "\n",
    "$$-gt + 12.12 = 0 \\Rightarrow t \\approx 1.236 \\Rightarrow y_{max} \\approx 37.5$$"
   ]
  },
  {
   "cell_type": "code",
   "execution_count": 54,
   "metadata": {
    "collapsed": false
   },
   "outputs": [
    {
     "data": {
      "image/png": "[encoded data removed]",
      "text/plain": [
       "<matplotlib.figure.Figure at 0x7f9553f29a20>"
      ]
     },
     "metadata": {},
     "output_type": "display_data"
    }
   ],
   "source": [
    "def y(t, v0, y0):\n",
    "    return -0.5*9.8*t**2.0 + v0*t + y0\n",
    "\n",
    "a = 0\n",
    "b = 4\n",
    "y0 = 30\n",
    "v0 = 12.12\n",
    "tt = np.linspace(a, b, 100)\n",
    "yy = y(tt, v0, y0)\n",
    "\n",
    "plt.plot(tt, yy)\n",
    "plt.plot(1.236, 37.5, \"ro\")\n",
    "plt.xlabel(\"$t$\", fontsize=20)\n",
    "plt.ylabel(\"$y(t)$\", fontsize=20)\n",
    "plt.show()"
   ]
  },
  {
   "cell_type": "markdown",
   "metadata": {},
   "source": [
    "## Shooting method\n",
    "\n",
    "En general los problemas de valor inicial (IVP) tienen soluciones únicas. En cambio los problemas de valor de frontera (BVP) podrían no tener solución o tener infinitas soluciones. El *shooting method* es un método numérico para resolver BVP que trabaja bajo la premisa de encontrar el IVP que tiene la misma solución.\n",
    "\n",
    "Dada una pendiente o *slope* $s_a$ inicial y un valor inicial $y_a$ generamos un IVP con solución $\\hat{y}(t)$ y vemos si dicha solución tentativa se acerca a $y_b$. Por prueba y error iremos corrigiendo la pendiente $s_a$ hasta que la solución al IVP generado calce con $y_b$. El problema por lo tanto puede definirse como una función de $s$\n",
    "\n",
    "$$\n",
    "\\begin{align}\n",
    "F(s) = \\text{Diferencia entre } y_b \\text{ y } y(b) \\text{, donde } y(t) \\text{ es la solución del IVP con } y(a) = y_a \\text{ y } y'(a) = s\n",
    "\\end{align}\n",
    "$$\n",
    "\n",
    "Como la función calcula una diferencia entre el valor de la condición de frontera y el valor de frontera del IVP, cuando ésta diferencia sea $0$ entonces habremos encontrado la solución al problema, es decir:\n",
    "$$F(s) = 0$$\n",
    "\n",
    "Por lo tanto nuestro problema de resolver BVP se reduce a una búsqueda de ceros para $F(s)$. Un método clásico para tal efecto es el método de bisección. Obviamente necesitamos dos pendientes $s_0$ y $s_1$ para establecer un intervalo con cambio de signo y buscar $s$ acá. Finalmente podemos buscar la solución final para el BVP como el IVP relacionado a la pendiente $s$:\n",
    "\n",
    "$$\\begin{align}\n",
    "y'' = f(t, y, y')\\\\\n",
    "y(a) = y_a\\\\\n",
    "y'(a) = s^*\n",
    "\\end{align}\n",
    "$$"
   ]
  },
  {
   "cell_type": "code",
   "execution_count": 98,
   "metadata": {
    "collapsed": false
   },
   "outputs": [
    {
     "data": {
      "image/png": "[encoded data removed]",
      "text/plain": [
       "<matplotlib.figure.Figure at 0x7fab17c79e80>"
      ]
     },
     "metadata": {},
     "output_type": "display_data"
    }
   ],
   "source": [
    "from scipy.integrate import odeint\n",
    "from scipy.optimize import bisect\n",
    "\n",
    "a, b = (0, 1)\n",
    "yb = 3.0\n",
    "t = np.linspace(a, b, 101)\n",
    "\n",
    "### v' = 4u\n",
    "### u' = v\n",
    "\n",
    "def yprime(_y, t):\n",
    "    v, u = _y\n",
    "    return [4*u, v]\n",
    "\n",
    "def F(s):\n",
    "    y0 = [s, 1]\n",
    "    sol = odeint(yprime, y0, t)\n",
    "    return sol[:,1][-1] - yb\n",
    "\n",
    "\n",
    "# Chequear F(-1)F(0) < 0\n",
    "sbest = bisect(F, -1, 0)\n",
    "\n",
    "# Plot de aproximaciones\n",
    "y1 = odeint(yprime, [-1, 1], t)\n",
    "y2 = odeint(yprime, [0, 1], t)\n",
    "ybest = odeint(yprime, [sbest, 1], t)\n",
    "plt.plot(1, 3, 'ro')\n",
    "plt.plot(t, y1[:,1], 'g--')\n",
    "plt.plot(t, y2[:,1], 'b--')\n",
    "plt.plot(t, ybest[:,1],'r-')\n",
    "plt.show()"
   ]
  },
  {
   "cell_type": "code",
   "execution_count": null,
   "metadata": {
    "collapsed": true
   },
   "outputs": [],
   "source": []
  }
 ],
 "metadata": {
  "kernelspec": {
   "display_name": "Python 3",
   "language": "python",
   "name": "python3"
  },
  "language_info": {
   "codemirror_mode": {
    "name": "ipython",
    "version": 3
   },
   "file_extension": ".py",
   "mimetype": "text/x-python",
   "name": "python",
   "nbconvert_exporter": "python",
   "pygments_lexer": "ipython3",
   "version": "3.4.3"
  }
 },
 "nbformat": 4,
 "nbformat_minor": 0
}
