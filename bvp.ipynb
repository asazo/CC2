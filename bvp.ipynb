{
 "cells": [
  {
   "cell_type": "markdown",
   "metadata": {},
   "source": [
    "# Problemas de Valor de Frontera (Boundary Value Problems)"
   ]
  },
  {
   "cell_type": "markdown",
   "metadata": {},
   "source": [
    "En general un problema de valor de frontera de segundo orden posee la siguiente estructura:\n",
    "\n",
    "$$\\begin{align}y'' &= f(t,y,y') \\\\y(a) &= y_a \\\\y(b) &= y_b \\end{align}$$"
   ]
  },
  {
   "cell_type": "markdown",
   "metadata": {},
   "source": [
    "donde $y(a)$ e $y(b)$ son las condiciones de borde para el problema que está definido en el intervalo $a \\leq t \\leq b$. La respuesta a este problema es una función $y(t)$."
   ]
  },
  {
   "cell_type": "code",
   "execution_count": 50,
   "metadata": {
    "collapsed": true
   },
   "outputs": [],
   "source": [
    "%matplotlib inline\n",
    "import numpy as np\n",
    "import matplotlib.pyplot as plt\n",
    "import matplotlib"
   ]
  },
  {
   "cell_type": "code",
   "execution_count": 57,
   "metadata": {
    "collapsed": false
   },
   "outputs": [
    {
     "data": {
      "text/plain": [
       "([<matplotlib.axis.YTick at 0x7f9553cc3940>,\n",
       "  <matplotlib.axis.YTick at 0x7f9553cc36a0>],\n",
       " <a list of 2 Text yticklabel objects>)"
      ]
     },
     "execution_count": 57,
     "metadata": {},
     "output_type": "execute_result"
    },
    {
     "data": {
      "image/png": "[encoded data removed]",
      "text/plain": [
       "<matplotlib.figure.Figure at 0x7f9553d146d8>"
      ]
     },
     "metadata": {},
     "output_type": "display_data"
    }
   ],
   "source": [
    "def y(x):\n",
    "    return np.exp(-x**2)*np.sin(x)\n",
    "xx = np.linspace(0, 1, 100)\n",
    "yy = y(xx)\n",
    "plt.plot(xx,yy)\n",
    "plt.plot(0,0,'ro')\n",
    "plt.plot(1,y(1),'ro')\n",
    "plt.xlim(-0.5, 1.5)\n",
    "plt.ylim(-0.1, 0.45)\n",
    "labels = [\"$a$\",\"$b$\"]\n",
    "labels2=[\"$y_a$\", \"$y_b$\"]\n",
    "plt.xticks([0,1], labels, fontsize=20)\n",
    "plt.yticks([0, y(1)], labels2, fontsize=20)"
   ]
  },
  {
   "cell_type": "markdown",
   "metadata": {},
   "source": [
    "Ejemplo: **Encuentre la altura máxima para un proyectil lanzado desde 30 metros de altura y que alcanza el suelo en 4 segundos.**\n",
    "\n",
    "En este caso, el problema puede plantearse dadas las leyes de Newton de movimiento como:\n",
    "\n",
    "$\\begin{align}\n",
    "y'' &= -g\\\\\n",
    "y(0) &= 30\\\\\n",
    "y(4) &= 0\n",
    "\\end{align}\n",
    "$\n",
    "\n",
    "Analíticamente lo resolvemos vía integración de $y''$ pues ésta depende únicamente de $t$.\n",
    "\n",
    "$\n",
    "\\begin{align}\n",
    "y'(t) &= \\int y''(t)\\,dt = -gt + v_0\\\\\n",
    "y(t) &= \\int -gt + v_0 \\, dt = -\\frac{1}{2}gt^2 + v_0t + y_0\n",
    "\\end{align}\n",
    "$\n",
    "\n",
    "Las condiciones de borde nos permiten descubrir las constantes $v_0$ y $y_0$ pues $y(0) = y_0 = 30$ y $y(4) = -8g+v_0+30$, luego $v_0 \\approx 12.12 $. Al obtener la solución analítica podemos descubrir la altura máxima del proyectil.\n",
    "\n",
    "$$-gt + 12.12 = 0 \\Rightarrow t \\approx 1.236 \\Rightarrow y_{max} \\approx 37.5$$"
   ]
  },
  {
   "cell_type": "code",
   "execution_count": 54,
   "metadata": {
    "collapsed": false
   },
   "outputs": [
    {
     "data": {
      "image/png": "[encoded data removed]",
      "text/plain": [
       "<matplotlib.figure.Figure at 0x7f9553f29a20>"
      ]
     },
     "metadata": {},
     "output_type": "display_data"
    }
   ],
   "source": [
    "def y(t, v0, y0):\n",
    "    return -0.5*9.8*t**2.0 + v0*t + y0\n",
    "\n",
    "a = 0\n",
    "b = 4\n",
    "y0 = 30\n",
    "v0 = 12.12\n",
    "tt = np.linspace(a, b, 100)\n",
    "yy = y(tt, v0, y0)\n",
    "\n",
    "plt.plot(tt, yy)\n",
    "plt.plot(1.236, 37.5, \"ro\")\n",
    "plt.xlabel(\"$t$\", fontsize=20)\n",
    "plt.ylabel(\"$y(t)$\", fontsize=20)\n",
    "plt.show()"
   ]
  },
  {
   "cell_type": "code",
   "execution_count": null,
   "metadata": {
    "collapsed": true
   },
   "outputs": [],
   "source": []
  }
 ],
 "metadata": {
  "kernelspec": {
   "display_name": "Python 3",
   "language": "python",
   "name": "python3"
  },
  "language_info": {
   "codemirror_mode": {
    "name": "ipython",
    "version": 3
   },
   "file_extension": ".py",
   "mimetype": "text/x-python",
   "name": "python",
   "nbconvert_exporter": "python",
   "pygments_lexer": "ipython3",
   "version": "3.4.3"
  }
 },
 "nbformat": 4,
 "nbformat_minor": 0
}
