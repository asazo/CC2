{
 "cells": [
  {
   "cell_type": "markdown",
   "metadata": {},
   "source": [
    "# Métodos Iterativos para Valores y Vectores Propios\n",
    "\n",
    "El cálculo de valores propios es fundamental para varias aplicaciones. El algoritmo PageRank de Google usa vectores propios dominantes para clasificar páginas, los vectores propios nos dicen direcciones de dispersión de datos, podemos rotar imágenes, codificar información, encontrar invarianzas en operadores, etc.\n",
    "\n",
    "El primer algoritmo a revisar es **Power Iteration**. La tarea principal es encontrar para una matriz $A \\in \\mathbb{R}^{n\\times n}$ su vector propio dominante y su valor propio asociado, denominados $\\mathbf{v}_1$ y $\\lambda_1$ respectivamente. ¿Cómo podemos lograr esto?. La idea base radica en la sucesiva potenciación de la matriz $A$ por algún vector $\\mathbf{x}_0$, cuyo resultado apuntará cada vez más en la dirección del vector propio dominante."
   ]
  },
  {
   "cell_type": "code",
   "execution_count": 3,
   "metadata": {
    "collapsed": true
   },
   "outputs": [],
   "source": [
    "import numpy as np\n",
    "import matplotlib.pyplot as plt\n",
    "%matplotlib inline"
   ]
  },
  {
   "cell_type": "code",
   "execution_count": 4,
   "metadata": {
    "collapsed": true
   },
   "outputs": [],
   "source": [
    "def power_iteration(A, x0, n_iter=100):\n",
    "    # Check if x0 is given as input\n",
    "    if not x0:\n",
    "        x0 = np.random.rand(A.shape[0])\n",
    "    for i in range(n_iter):\n",
    "        u = A.dot(x0)\n",
    "        u / np.linalg.norm(u)\n",
    "    return u"
   ]
  },
  {
   "cell_type": "markdown",
   "metadata": {},
   "source": [
    "Notar que en cada paso el método normaliza por la norma del vector $\\mathbf{}/\\mathbf{}$"
   ]
  },
  {
   "cell_type": "markdown",
   "metadata": {},
   "source": [
    "## Disclaimer\n",
    "\n",
    "El presente notebook ha sido creado para el curso ILI286 - Computación Científica 2, del Departamento de Informática, Universidad Técnica Federico Santa María. El material ha sido creado por Alejandro Sazo (asazo@alumnos.inf.utfsm.cl) y Claudio Torres (ctorres@inf.utfsm.cl). En caso de encontrar un error, por favor no dude en contactar al email especificado. Puede encontrar la última versión del código en https://github.com/asazo/CC2"
   ]
  },
  {
   "cell_type": "code",
   "execution_count": null,
   "metadata": {
    "collapsed": true
   },
   "outputs": [],
   "source": []
  }
 ],
 "metadata": {
  "kernelspec": {
   "display_name": "Python 3",
   "language": "python",
   "name": "python3"
  },
  "language_info": {
   "codemirror_mode": {
    "name": "ipython",
    "version": 3
   },
   "file_extension": ".py",
   "mimetype": "text/x-python",
   "name": "python",
   "nbconvert_exporter": "python",
   "pygments_lexer": "ipython3",
   "version": "3.5.3"
  }
 },
 "nbformat": 4,
 "nbformat_minor": 1
}
